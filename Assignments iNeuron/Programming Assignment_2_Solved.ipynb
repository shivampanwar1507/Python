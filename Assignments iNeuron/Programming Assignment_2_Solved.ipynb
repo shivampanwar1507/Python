{
 "cells": [
  {
   "cell_type": "markdown",
   "metadata": {
    "id": "08c66ea5"
   },
   "source": [
    "## Programming Assignment_2\n",
    "-------------"
   ]
  },
  {
   "cell_type": "markdown",
   "metadata": {
    "id": "4e50cf42"
   },
   "source": [
    "### 1. Write a Python program to convert kilometers to miles?\n"
   ]
  },
  {
   "cell_type": "code",
   "execution_count": 1,
   "metadata": {},
   "outputs": [
    {
     "name": "stdout",
     "output_type": "stream",
     "text": [
      "Enter the distance in km: 100\n",
      "There are 62.13999999999999 miles in 100 km\n"
     ]
    }
   ],
   "source": [
    "\n",
    "dist_in_km = eval(input(\"Enter the distance in km: \"))\n",
    "\n",
    "## We know that 1 km = 0.62137119 miles.\n",
    "dist_in_miles = dist_in_km * 0.6214\n",
    "\n",
    "print(\"There are \"+str(dist_in_miles)+\" miles in \"+str(dist_in_km)+\" km\")"
   ]
  },
  {
   "cell_type": "markdown",
   "metadata": {
    "id": "0df4e6bf"
   },
   "source": [
    "### 2.Write a Python program to convert Celsius to Fahrenheit?"
   ]
  },
  {
   "cell_type": "markdown",
   "metadata": {
    "id": "Q-iUx4CQoppc"
   },
   "source": []
  },
  {
   "cell_type": "code",
   "execution_count": 2,
   "metadata": {},
   "outputs": [
    {
     "name": "stdout",
     "output_type": "stream",
     "text": [
      "Enter the temperature in celsius: 100\n",
      "100 celsius is equal to 212.0 fahrenheit\n"
     ]
    }
   ],
   "source": [
    "temp_in_celsius = eval(input(\"Enter the temperature in celsius: \"))\n",
    "\n",
    "## As we know that Fahrenheit = (Celsius * 1.8) + 32\n",
    "temp_in_fahrenheit = (temp_in_celsius * 1.8) + 32\n",
    "\n",
    "print(temp_in_celsius,\"celsius is equal to \"+str(temp_in_fahrenheit)+\" fahrenheit\")"
   ]
  },
  {
   "cell_type": "markdown",
   "metadata": {
    "id": "46129b8e"
   },
   "source": [
    "### 3. Write a Python program to display calendar?\n"
   ]
  },
  {
   "cell_type": "code",
   "execution_count": 3,
   "metadata": {},
   "outputs": [
    {
     "name": "stdout",
     "output_type": "stream",
     "text": [
      "Enter the year of which you want to see the calendar: 2023\n",
      "Enter the month of which you want to see the calendar: 3\n",
      "\n",
      "      March 2023\n",
      "Mo Tu We Th Fr Sa Su\n",
      "       1  2  3  4  5\n",
      " 6  7  8  9 10 11 12\n",
      "13 14 15 16 17 18 19\n",
      "20 21 22 23 24 25 26\n",
      "27 28 29 30 31\n",
      "\n"
     ]
    }
   ],
   "source": [
    "import calendar\n",
    "\n",
    "year = int(input(\"Enter the year of which you want to see the calendar: \"))\n",
    "month = int(input(\"Enter the month of which you want to see the calendar: \"))\n",
    "\n",
    "print(\"\\n\",calendar.month(year, month))"
   ]
  },
  {
   "cell_type": "markdown",
   "metadata": {
    "id": "db2bf0f7"
   },
   "source": [
    "### 4. Write a Python program to solve quadratic equation?"
   ]
  },
  {
   "cell_type": "code",
   "execution_count": 4,
   "metadata": {},
   "outputs": [
    {
     "name": "stdout",
     "output_type": "stream",
     "text": [
      "Enter the value of a: 1\n",
      "Enter the value of b: -9\n",
      "Enter the value of c: 20\n",
      "The roots of the given quadratic equation are 5.0 and 4.0\n"
     ]
    }
   ],
   "source": [
    "## As we know the general equation of a quadratic equation is ax^2 + bx + c = 0 so there are 3 variables\n",
    "## so in this program we will take these 3 variables from the user and solve the equation.\n",
    "import math\n",
    "\n",
    "a = eval(input(\"Enter the value of a: \"))\n",
    "b = eval(input(\"Enter the value of b: \"))\n",
    "c = eval(input(\"Enter the value of c: \"))\n",
    "\n",
    "root1 = (-b + math.sqrt(abs(b**2 - 4*a*c))) / 2*a\n",
    "root2 = (-b - math.sqrt(abs(b**2 - 4*a*c))) / 2*a\n",
    "\n",
    "print(\"The roots of the given quadratic equation are \"+str(root1)+\" and \"+str(root2))"
   ]
  },
  {
   "cell_type": "markdown",
   "metadata": {
    "id": "f70f74c9"
   },
   "source": [
    "### 5. Write a Python program to swap two variables without temp variable?"
   ]
  },
  {
   "cell_type": "code",
   "execution_count": 5,
   "metadata": {},
   "outputs": [
    {
     "name": "stdout",
     "output_type": "stream",
     "text": [
      "Enter the value of a: 47\n",
      "Enter the value of b: 15\n",
      "Before swapping a and b are 47 15\n",
      "After swapping a and b are 15 47\n"
     ]
    }
   ],
   "source": [
    "a = eval(input(\"Enter the value of a: \"))\n",
    "b = eval(input(\"Enter the value of b: \"))\n",
    "\n",
    "print(\"Before swapping a and b are\",a,b)\n",
    "\n",
    "a = a+b\n",
    "b = a-b\n",
    "a = a-b\n",
    "\n",
    "print(\"After swapping a and b are\",a,b)"
   ]
  }
 ],
 "metadata": {
  "colab": {
   "provenance": []
  },
  "kernelspec": {
   "display_name": "Python 3",
   "language": "python",
   "name": "python3"
  },
  "language_info": {
   "codemirror_mode": {
    "name": "ipython",
    "version": 3
   },
   "file_extension": ".py",
   "mimetype": "text/x-python",
   "name": "python",
   "nbconvert_exporter": "python",
   "pygments_lexer": "ipython3",
   "version": "3.8.5"
  }
 },
 "nbformat": 4,
 "nbformat_minor": 5
}
