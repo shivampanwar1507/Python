{
 "cells": [
  {
   "cell_type": "markdown",
   "metadata": {},
   "source": [
    "## Programming Assignment_1\n",
    "-------------"
   ]
  },
  {
   "cell_type": "markdown",
   "metadata": {},
   "source": [
    "### 1. Write a Python program to print \"Hello Python\"?"
   ]
  },
  {
   "cell_type": "code",
   "execution_count": 1,
   "metadata": {},
   "outputs": [
    {
     "name": "stdout",
     "output_type": "stream",
     "text": [
      "Hello Python\n"
     ]
    }
   ],
   "source": [
    "print(\"Hello Python\")"
   ]
  },
  {
   "cell_type": "markdown",
   "metadata": {},
   "source": [
    "### 2. Write a Python program to do arithmetical operations addition and division.?\n"
   ]
  },
  {
   "cell_type": "code",
   "execution_count": 2,
   "metadata": {},
   "outputs": [
    {
     "name": "stdout",
     "output_type": "stream",
     "text": [
      "The sum is 54\n",
      "The division is 5.0\n"
     ]
    }
   ],
   "source": [
    "num1 = 45\n",
    "num2 = 9\n",
    "\n",
    "print(\"The sum is\",num1+num2) # Addition\n",
    "print(\"The division is\",num1/num2) # Division"
   ]
  },
  {
   "cell_type": "markdown",
   "metadata": {},
   "source": [
    "### 3. Write a Python program to find the area of a triangle?\n"
   ]
  },
  {
   "cell_type": "code",
   "execution_count": 3,
   "metadata": {},
   "outputs": [
    {
     "name": "stdout",
     "output_type": "stream",
     "text": [
      "The area of a triangle is 40.0\n"
     ]
    }
   ],
   "source": [
    "base = 8\n",
    "height = 10\n",
    "\n",
    "Area = 1/2*(base*height)\n",
    "print(\"The area of a triangle is\",Area)"
   ]
  },
  {
   "cell_type": "markdown",
   "metadata": {},
   "source": [
    "### 4. Write a Python program to swap two variables?\n"
   ]
  },
  {
   "cell_type": "code",
   "execution_count": 4,
   "metadata": {},
   "outputs": [
    {
     "name": "stdout",
     "output_type": "stream",
     "text": [
      "Before Swapping a & b are 45 67\n",
      "After Swapping a & b are 67 45\n"
     ]
    }
   ],
   "source": [
    "a = 45\n",
    "b = 67\n",
    "print(\"Before Swapping a & b are\",a,b)\n",
    "sum = a+b\n",
    "# for swapping\n",
    "b = sum - b\n",
    "a = sum - a\n",
    "print(\"After Swapping a & b are\",a,b)"
   ]
  },
  {
   "cell_type": "markdown",
   "metadata": {},
   "source": [
    "### 5. Write a Python program to generate a random number?\n"
   ]
  },
  {
   "cell_type": "code",
   "execution_count": 5,
   "metadata": {},
   "outputs": [
    {
     "name": "stdout",
     "output_type": "stream",
     "text": [
      "The random number is 581\n"
     ]
    }
   ],
   "source": [
    "import random\n",
    "num3 = random.randint(1,1000)\n",
    "print(\"The random number is\",num3)"
   ]
  }
 ],
 "metadata": {
  "kernelspec": {
   "display_name": "Python 3",
   "language": "python",
   "name": "python3"
  },
  "language_info": {
   "codemirror_mode": {
    "name": "ipython",
    "version": 3
   },
   "file_extension": ".py",
   "mimetype": "text/x-python",
   "name": "python",
   "nbconvert_exporter": "python",
   "pygments_lexer": "ipython3",
   "version": "3.8.5"
  }
 },
 "nbformat": 4,
 "nbformat_minor": 5
}
